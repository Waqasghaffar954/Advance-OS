{
  "nbformat": 4,
  "nbformat_minor": 0,
  "metadata": {
    "colab": {
      "provenance": []
    },
    "kernelspec": {
      "name": "python3",
      "display_name": "Python 3"
    },
    "language_info": {
      "name": "python"
    }
  },
  "cells": [
    {
      "cell_type": "markdown",
      "source": [
        "# **CHAPTER 3**\n",
        "**Excersice 3.4**\n",
        "**Guest List:**\n",
        "If you could invite anyone, living or deceased, to dinner, who\n",
        "would you invite? Make a list that includes at least three people you’d like to\n",
        "invite to dinner. Then use your list to print a message to each person, inviting\n",
        "them to dinner."
      ],
      "metadata": {
        "id": "0pnNVmE3_qFO"
      }
    },
    {
      "cell_type": "code",
      "source": [
        "waqas_guests = [\"Ali\", \"ishaq\", \"Gohar\"];\n",
        "print(\"Hi \"+waqas_guests[0]+\", \"+waqas_guests[1]+\", \"+waqas_guests[2]+\", You all are invited for Dinner at Ramada on coming Sunday.\")"
      ],
      "metadata": {
        "colab": {
          "base_uri": "https://localhost:8080/"
        },
        "id": "RUZMzA7C_zH4",
        "outputId": "5da8d018-a486-43e2-c208-09998feed336"
      },
      "execution_count": null,
      "outputs": [
        {
          "output_type": "stream",
          "name": "stdout",
          "text": [
            "Hi Ali, ishaq, Gohar, You all are invited for Dinner at Ramada on coming Sunday.\n"
          ]
        }
      ]
    },
    {
      "cell_type": "markdown",
      "source": [
        "**Excersice 3.5 Changing Guest List:**\n",
        "You just heard that one of your guests can’t make the\n",
        "dinner, so you need to send out a new set of invitations. You’ll have to think of someone else to invite.\n",
        "\n",
        "\n",
        "*   Start with your program from Exercise 3-4. Add a print statement at the\n",
        "end of your program stating the name of the guest who can’t make it.\n",
        "*   Modify your list, replacing the name of the guest who can’t make it with\n",
        "the name of the new person you are inviting.\n",
        "*   Print a second set of invitation messages, one for each person who is still\n",
        "in your list."
      ],
      "metadata": {
        "id": "Eln_d4GJm2Ha"
      }
    },
    {
      "cell_type": "code",
      "source": [
        "waqas_guests = [\"ishaq\", \"rehan\", \"gohar\"];\n",
        "print(waqas_guests[1]+\" Will not be able to join us for Dinner.\")\n",
        "\n",
        "waqas_guests[1] = 'Shahid';\n",
        "print(\"Hi \"+waqas_guests[0]+\", You are invited for Dinner at Ramada on coming Sunday.\")\n",
        "print(\"Hi \"+waqas_guests[1]+\", You are invited for Dinner at Ramada on coming Sunday.\")\n",
        "print(\"Hi \"+waqas_guests[2]+\", You are invited for Dinner at Ramada on coming Sunday.\")"
      ],
      "metadata": {
        "colab": {
          "base_uri": "https://localhost:8080/"
        },
        "id": "AfU-DvZHm3nq",
        "outputId": "f29203e2-0db9-4a07-9cb8-d213d2286668"
      },
      "execution_count": null,
      "outputs": [
        {
          "output_type": "stream",
          "name": "stdout",
          "text": [
            "rehan Will not be able to join us for Dinner.\n",
            "Hi ishaq, You are invited for Dinner at Ramada on coming Sunday.\n",
            "Hi Shahid, You are invited for Dinner at Ramada on coming Sunday.\n",
            "Hi gohar, You are invited for Dinner at Ramada on coming Sunday.\n"
          ]
        }
      ]
    },
    {
      "cell_type": "markdown",
      "source": [
        "**Excersice 3.6 More Guests:**: You just found a bigger dinner table, so now more space is available. Think of three more guests to invite to dinner.\n",
        "\n",
        "\n",
        "*   Start with your program from Exercise 3-4 or Exercise 3-5. Add a print\n",
        "statement to the end of your program informing people that you found a\n",
        "bigger dinner table.\n",
        "*   Use insert() to add one new guest to the beginning of your list\n",
        "*   Use insert() to add one new guest to the middle of your list.\n",
        "*   Use append() to add one new guest to the end of your list.\n",
        "*   Print a new set of invitation messages, one for each person in your list.a"
      ],
      "metadata": {
        "id": "BOX0lFM2neqS"
      }
    },
    {
      "cell_type": "code",
      "source": [
        "waqas_guests = [\"SAIF\", \"SHAMIR\", \"Ali\"];\n",
        "waqas_guests.insert(0, \"Sajid\");\n",
        "waqas_guests.insert(2, \"Aslam\");\n",
        "waqas_guests.append(\"Naheed\");\n",
        "print(\"Hello everyone, I found a bigger table for dinner.Please come\\n\"+waqas_guests[0]+\", \"+waqas_guests[1]+\", \"+waqas_guests[2]+\", \"+waqas_guests[3]+\", \"+waqas_guests[4]+\", \"+waqas_guests[5]+\", you all are invited at same time and place\")"
      ],
      "metadata": {
        "colab": {
          "base_uri": "https://localhost:8080/"
        },
        "id": "dqNT-n1DnfBi",
        "outputId": "294b4c76-bd7c-4593-a605-6f23b17f9644"
      },
      "execution_count": null,
      "outputs": [
        {
          "output_type": "stream",
          "name": "stdout",
          "text": [
            "Hello everyone, I found a bigger table for dinner.Please come\n",
            "Sajid, SAIF, Aslam, SHAMIR, Ali, Naheed, you all are invited at same time and place\n"
          ]
        }
      ]
    },
    {
      "cell_type": "markdown",
      "source": [
        "**Excersice 3.7 Shrinking Guest Lis:**: You just found out that your new dinner table won’t\n",
        "arrive in time for the dinner, and you have space for only two guests.\n",
        "\n",
        "\n",
        "*   Start with your program from Exercise 3-6. Add a new line that prints a\n",
        "message saying that you can invite only two people for dinner.\n",
        "*   Use pop() to remove guests from your list one at a time until only two\n",
        "names remain in your list. Each time you pop a name from your list, print\n",
        "a message to that person letting them know you’re sorry you can’t invite\n",
        "them to dinner.\n",
        "*   Print a message to each of the two people still on your list, letting them\n",
        "know they’re still invited.\n",
        "*   Use del to remove the last two names from your list, so you have an empty\n",
        "list. Print your list to make sure you actually have an empty list at the end\n",
        "of your program"
      ],
      "metadata": {
        "id": "1TxyC61wnyob"
      }
    },
    {
      "cell_type": "code",
      "source": [
        "waqas_guests = [\"Kasim\", \"Usaman\", \"Ali\"];\n",
        "waqas_guests.insert(0, \"Sajaad\");\n",
        "waqas_guests.insert(2, \"Aslam\");\n",
        "waqas_guests.append(\"Naheed\");\n",
        "\n",
        "print(\"I am really sorry I will  invite just two people on dinner\")\n",
        "removed1 = waqas_guests.pop(0)\n",
        "print(\"Hi \"+removed1+\", Sorry I can't invite you to dinner\")\n",
        "removed2 = waqas_guests.pop(0)\n",
        "print(\"Hi \"+removed2+\", Sorry I can't invite you to dinner\")\n",
        "removed3 = waqas_guests.pop(0)\n",
        "print(\"Hi \"+removed3+\", Sorry I can't invite you to dinner\")\n",
        "removed4 = waqas_guests.pop(0)\n",
        "print(\"Hi \"+removed4+\", Sorry I can't invite you to dinner\\n\")\n",
        "print(\"Hi \"+waqas_guests[0]+\", You are still invited for the Dinner\")\n",
        "print(\"Hi \"+waqas_guests[0]+\", You are still invited for the dinner\")\n",
        "del waqas_guests[0]\n",
        "del waqas_guests[0]\n",
        "print(waqas_guests)"
      ],
      "metadata": {
        "colab": {
          "base_uri": "https://localhost:8080/"
        },
        "id": "Y0Skc1S8nywK",
        "outputId": "c068d32e-4c2a-4d91-c38c-19742504e559"
      },
      "execution_count": null,
      "outputs": [
        {
          "output_type": "stream",
          "name": "stdout",
          "text": [
            "I am really sorry I will  invite just two people on dinner\n",
            "Hi Sajaad, Sorry I can't invite you to dinner\n",
            "Hi Kasim, Sorry I can't invite you to dinner\n",
            "Hi Aslam, Sorry I can't invite you to dinner\n",
            "Hi Usaman, Sorry I can't invite you to dinner\n",
            "\n",
            "Hi Ali, You are still invited for the Dinner\n",
            "Hi Ali, You are still invited for the dinner\n",
            "[]\n"
          ]
        }
      ]
    }
  ]
}