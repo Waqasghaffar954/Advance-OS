{
  "nbformat": 4,
  "nbformat_minor": 0,
  "metadata": {
    "colab": {
      "provenance": []
    },
    "kernelspec": {
      "name": "python3",
      "display_name": "Python 3"
    },
    "language_info": {
      "name": "python"
    }
  },
  "cells": [
    {
      "cell_type": "markdown",
      "source": [
        "# **CHAPTER 4**\n",
        "\n",
        "**4-1. Pizzas:** Think of at least three kinds of your favorite pizza. Store these\n",
        "pizza names in a list, and then use a for loop to print the name of each pizza.\n",
        "Modify your for loop to print a sentence using the name of the pizza.\n",
        "\n",
        "*   instead of printing just the name of the pizza. For each pizza you should\n",
        "have one line of output containing a simple statement like I like pepperoni\n",
        "pizza.\n",
        "*   Add a line at the end of your program, outside the for loop, that states\n",
        "how much you like pizza. The output should consist of three or more lines\n",
        "about the kinds of pizza you like and then an additional sentence, such as\n",
        "I really love pizza!"
      ],
      "metadata": {
        "id": "Z-SqGOGu4VM0"
      }
    },
    {
      "cell_type": "code",
      "source": [
        "waqas_pizza_list = ['Fajeeta', 'Bonefire', 'Shahi tikka']\n",
        "for pizza in waqas_pizza_list:\n",
        "  print(\"I Like \"+pizza+\" Pizza it's yummy.\")\n",
        "print(\"I love to eat pizza with ketchup, especially with friends.\")\n"
      ],
      "metadata": {
        "colab": {
          "base_uri": "https://localhost:8080/"
        },
        "id": "IiZX3EBu4sN0",
        "outputId": "6e56d725-d691-4a18-99c7-c671cf63d56d"
      },
      "execution_count": null,
      "outputs": [
        {
          "output_type": "stream",
          "name": "stdout",
          "text": [
            "I Like Fajeeta Pizza it's yummy.\n",
            "I Like Bonefire Pizza it's yummy.\n",
            "I Like Shahi tikka Pizza it's yummy.\n",
            "I love to eat pizza with ketchup, especially with friends.\n"
          ]
        }
      ]
    },
    {
      "cell_type": "markdown",
      "source": [
        "**4-2. Animals:** Think of at least three different animals that have a common characteristic. Store the names of these animals in a list, and then use a for loop to print out the name of each animal.\n",
        "\n",
        "*   Modify your program to print a statement about each animal, such as\n",
        "A dog would make a great pet.\n",
        "*   Add a line at the end of your program stating what these animals have in\n",
        "common. You could print a sentence such as Any of these animals would\n",
        "make a great pet!"
      ],
      "metadata": {
        "id": "KfN_nLxN63ie"
      }
    },
    {
      "cell_type": "code",
      "source": [
        "waqas_pet_list = [\"Parrot\", \"Dog\", \"Lion\"]\n",
        "\n",
        "for pet in waqas_pet_list:\n",
        "  print(\"A \"+pet.title()+\" would make a great pet.\")\n",
        "print(\"\\nAny of these animals would make a great pet!\")"
      ],
      "metadata": {
        "colab": {
          "base_uri": "https://localhost:8080/"
        },
        "id": "sRCm-U2F7ATG",
        "outputId": "2b8671a9-8454-4bfa-cd54-0efbbcef637f"
      },
      "execution_count": null,
      "outputs": [
        {
          "output_type": "stream",
          "name": "stdout",
          "text": [
            "A Parrot would make a great pet.\n",
            "A Dog would make a great pet.\n",
            "A Lion would make a great pet.\n",
            "\n",
            "Any of these animals would make a great pet!\n"
          ]
        }
      ]
    }
  ]
}